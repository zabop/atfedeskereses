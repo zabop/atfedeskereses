{
 "cells": [
  {
   "cell_type": "markdown",
   "metadata": {},
   "source": [
    "## C0123 part"
   ]
  },
  {
   "cell_type": "code",
   "execution_count": 18,
   "metadata": {},
   "outputs": [],
   "source": [
    "import pandas as pd"
   ]
  },
  {
   "cell_type": "code",
   "execution_count": 19,
   "metadata": {},
   "outputs": [],
   "source": [
    "#!pip3 install xlrd - uncomment if not installed\n",
    "newc0123=pd.ExcelFile('K2 (C0-1-2-3) - RR Lyrae Signals (Update.v.1).xlsx')"
   ]
  },
  {
   "cell_type": "code",
   "execution_count": 20,
   "metadata": {},
   "outputs": [
    {
     "data": {
      "text/plain": [
       "['Signals']"
      ]
     },
     "execution_count": 20,
     "metadata": {},
     "output_type": "execute_result"
    }
   ],
   "source": [
    "newc0123.sheet_names # check sheet name"
   ]
  },
  {
   "cell_type": "code",
   "execution_count": 21,
   "metadata": {},
   "outputs": [],
   "source": [
    "newc0123=newc0123.parse('Signals') # read in sheet"
   ]
  },
  {
   "cell_type": "code",
   "execution_count": 22,
   "metadata": {},
   "outputs": [],
   "source": [
    "newc0123=newc0123[newc0123.columns[0]].tolist() # make a list from the first col of the sheet"
   ]
  },
  {
   "cell_type": "code",
   "execution_count": 23,
   "metadata": {},
   "outputs": [],
   "source": [
    "newc0123=set(newc0123) # create a set from list"
   ]
  },
  {
   "cell_type": "code",
   "execution_count": 24,
   "metadata": {},
   "outputs": [],
   "source": [
    "ownc0=pd.read_csv('c0.list',sep=' ',header=None)[0].tolist() #read in own c0 list, make it a list\n",
    "ownc0=set([int(each[5:14]) for each in ownc0]) #keep only the ID and make it a set"
   ]
  },
  {
   "cell_type": "code",
   "execution_count": 25,
   "metadata": {},
   "outputs": [],
   "source": [
    "ownc1=pd.read_csv('c1.list',sep=' ',header=None)[0].tolist() #read in own c1 l\n",
    "ownc1=set([int(each[5:14]) for each in ownc1]) #keep only the ID and make it a set"
   ]
  },
  {
   "cell_type": "code",
   "execution_count": 26,
   "metadata": {},
   "outputs": [],
   "source": [
    "ownc2=set() \n",
    "with open('C2') as ownc2in: #open own\n",
    "    for each, line in enumerate(ownc2in):\n",
    "        ownc2.add(int(line.split()[-1])) # read in each line, where there are two IDs, take the second one"
   ]
  },
  {
   "cell_type": "code",
   "execution_count": 27,
   "metadata": {},
   "outputs": [],
   "source": [
    "import glob as g"
   ]
  },
  {
   "cell_type": "code",
   "execution_count": 28,
   "metadata": {},
   "outputs": [],
   "source": [
    "ownc3=set([int(each [5:14]) for each in g.glob(\"EPIC*c03*\")])#read in own c3 files, take only the ID, make it a set"
   ]
  },
  {
   "cell_type": "code",
   "execution_count": 29,
   "metadata": {},
   "outputs": [
    {
     "data": {
      "text/plain": [
       "{210282474, 'Star ID (EPIC)', nan}"
      ]
     },
     "execution_count": 29,
     "metadata": {},
     "output_type": "execute_result"
    }
   ],
   "source": [
    "c0123difference = newc0123 - ownc3 - ownc2 - ownc1 - ownc0 # check difference\n",
    "c0123difference"
   ]
  },
  {
   "cell_type": "markdown",
   "metadata": {},
   "source": [
    "# we dont have 210282474 on our list\n"
   ]
  },
  {
   "cell_type": "code",
   "execution_count": null,
   "metadata": {},
   "outputs": [],
   "source": []
  },
  {
   "cell_type": "code",
   "execution_count": null,
   "metadata": {},
   "outputs": [],
   "source": []
  }
 ],
 "metadata": {
  "kernelspec": {
   "display_name": "Python 3",
   "language": "python",
   "name": "python3"
  },
  "language_info": {
   "codemirror_mode": {
    "name": "ipython",
    "version": 3
   },
   "file_extension": ".py",
   "mimetype": "text/x-python",
   "name": "python",
   "nbconvert_exporter": "python",
   "pygments_lexer": "ipython3",
   "version": "3.6.6"
  }
 },
 "nbformat": 4,
 "nbformat_minor": 2
}
