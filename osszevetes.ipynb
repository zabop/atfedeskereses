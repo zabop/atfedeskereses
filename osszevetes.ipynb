{
 "cells": [
  {
   "cell_type": "markdown",
   "metadata": {},
   "source": [
    "## C0123 part:"
   ]
  },
  {
   "cell_type": "code",
   "execution_count": 101,
   "metadata": {},
   "outputs": [],
   "source": [
    "import pandas as pd"
   ]
  },
  {
   "cell_type": "code",
   "execution_count": 102,
   "metadata": {},
   "outputs": [],
   "source": [
    "#!pip3 install xlrd - uncomment if not installed\n",
    "newc0123=pd.ExcelFile('K2 (C0-1-2-3) - RR Lyrae Signals (Update.v.1).xlsx')"
   ]
  },
  {
   "cell_type": "code",
   "execution_count": 103,
   "metadata": {},
   "outputs": [
    {
     "data": {
      "text/plain": [
       "['Signals']"
      ]
     },
     "execution_count": 103,
     "metadata": {},
     "output_type": "execute_result"
    }
   ],
   "source": [
    "newc0123.sheet_names # check sheet name"
   ]
  },
  {
   "cell_type": "code",
   "execution_count": 104,
   "metadata": {},
   "outputs": [],
   "source": [
    "newc0123=newc0123.parse('Signals') # read in sheet"
   ]
  },
  {
   "cell_type": "code",
   "execution_count": 105,
   "metadata": {},
   "outputs": [],
   "source": [
    "newc0123=newc0123[newc0123.columns[0]].tolist() # make a list from the first col of the sheet"
   ]
  },
  {
   "cell_type": "code",
   "execution_count": 106,
   "metadata": {},
   "outputs": [],
   "source": [
    "newc0123=set(newc0123) # create a set from list"
   ]
  },
  {
   "cell_type": "code",
   "execution_count": 107,
   "metadata": {},
   "outputs": [],
   "source": [
    "ownc0=pd.read_csv('c0.list',sep=' ',header=None)[0].tolist() #read in own c0 list, make it a list\n",
    "ownc0=set([int(each[5:14]) for each in ownc0]) #keep only the ID and make it a set"
   ]
  },
  {
   "cell_type": "code",
   "execution_count": 108,
   "metadata": {},
   "outputs": [],
   "source": [
    "ownc1=pd.read_csv('c1.list',sep=' ',header=None)[0].tolist() #read in own c1 l\n",
    "ownc1=set([int(each[5:14]) for each in ownc1]) #keep only the ID and make it a set"
   ]
  },
  {
   "cell_type": "code",
   "execution_count": 109,
   "metadata": {},
   "outputs": [],
   "source": [
    "ownc2=set() \n",
    "with open('C2') as ownc2in: #open own\n",
    "    for each, line in enumerate(ownc2in):\n",
    "        ownc2.add(int(line.split()[-1])) # read in each line, where there are two IDs, take the second one"
   ]
  },
  {
   "cell_type": "code",
   "execution_count": 110,
   "metadata": {},
   "outputs": [],
   "source": [
    "import glob as g"
   ]
  },
  {
   "cell_type": "code",
   "execution_count": 111,
   "metadata": {},
   "outputs": [],
   "source": [
    "ownc3=set([int(each [5:14]) for each in g.glob(\"EPIC*c03*\")])#read in own c3 files, take only the ID, make it a set"
   ]
  },
  {
   "cell_type": "code",
   "execution_count": 112,
   "metadata": {},
   "outputs": [
    {
     "data": {
      "text/plain": [
       "{210282474, 'Star ID (EPIC)', nan}"
      ]
     },
     "execution_count": 112,
     "metadata": {},
     "output_type": "execute_result"
    }
   ],
   "source": [
    "c0123difference = newc0123 - ownc3 - ownc2 - ownc1 - ownc0 # check difference\n",
    "c0123difference"
   ]
  },
  {
   "cell_type": "markdown",
   "metadata": {},
   "source": [
    "# we dont have 210282474 on our list\n"
   ]
  },
  {
   "cell_type": "markdown",
   "metadata": {},
   "source": [
    "## c4 part:"
   ]
  },
  {
   "cell_type": "code",
   "execution_count": 113,
   "metadata": {},
   "outputs": [],
   "source": [
    "newc4=pd.ExcelFile('K2 (C4) - RR Lyrae Signals.xlsx')"
   ]
  },
  {
   "cell_type": "code",
   "execution_count": 114,
   "metadata": {},
   "outputs": [],
   "source": [
    "newc4=newc4.parse('Signals') # read in sheet"
   ]
  },
  {
   "cell_type": "code",
   "execution_count": 115,
   "metadata": {},
   "outputs": [],
   "source": [
    "newc4=set(newc4[newc4.columns[0]].tolist()) # make a list then set from the first col of the sheet"
   ]
  },
  {
   "cell_type": "code",
   "execution_count": 116,
   "metadata": {},
   "outputs": [],
   "source": [
    "ownc4=set([int(each[5:14]) for each in g.glob('E*c04*')]) # get list of own c4, slice for ID, make it a set"
   ]
  },
  {
   "cell_type": "code",
   "execution_count": 117,
   "metadata": {},
   "outputs": [
    {
     "data": {
      "text/plain": [
       "{210619926, 211062662, 211063000, 211069629, 'Star ID (EPIC)', nan}"
      ]
     },
     "execution_count": 117,
     "metadata": {},
     "output_type": "execute_result"
    }
   ],
   "source": [
    "c4difference = newc4-ownc4\n",
    "c4difference"
   ]
  },
  {
   "cell_type": "markdown",
   "metadata": {},
   "source": [
    "# 210619926, 211062662, 211063000, 211069629 are new to us"
   ]
  },
  {
   "cell_type": "markdown",
   "metadata": {},
   "source": [
    "## c6 part:"
   ]
  },
  {
   "cell_type": "code",
   "execution_count": 153,
   "metadata": {},
   "outputs": [],
   "source": [
    "newc6=pd.read_csv('K2 C6 - RR Lyrae Candidates.txt') # read in file"
   ]
  },
  {
   "cell_type": "code",
   "execution_count": 154,
   "metadata": {},
   "outputs": [],
   "source": [
    "newc6=set(newc6[newc6.columns[0]].tolist()) # get IDs from first column of file, make it a list, then set"
   ]
  },
  {
   "cell_type": "code",
   "execution_count": 155,
   "metadata": {},
   "outputs": [],
   "source": [
    "ownc6=set([int(each[5:14]) for each in g.glob('E*c06*')])"
   ]
  },
  {
   "cell_type": "code",
   "execution_count": 158,
   "metadata": {},
   "outputs": [
    {
     "data": {
      "text/plain": [
       "{212347134,\n",
       " 212405442,\n",
       " 212626187,\n",
       " 212643422,\n",
       " 212643647,\n",
       " 212698817,\n",
       " 212753920,\n",
       " 229227274,\n",
       " 229228121}"
      ]
     },
     "execution_count": 158,
     "metadata": {},
     "output_type": "execute_result"
    }
   ],
   "source": [
    "c6difference = newc6-ownc6\n",
    "c6difference"
   ]
  },
  {
   "cell_type": "markdown",
   "metadata": {},
   "source": [
    "# 212347134, 212405442, 212626187, 212643422, 212643647, 212698817, 212753920, 229227274, 229228121 are new to us"
   ]
  },
  {
   "cell_type": "code",
   "execution_count": null,
   "metadata": {},
   "outputs": [],
   "source": []
  }
 ],
 "metadata": {
  "kernelspec": {
   "display_name": "Python 3",
   "language": "python",
   "name": "python3"
  },
  "language_info": {
   "codemirror_mode": {
    "name": "ipython",
    "version": 3
   },
   "file_extension": ".py",
   "mimetype": "text/x-python",
   "name": "python",
   "nbconvert_exporter": "python",
   "pygments_lexer": "ipython3",
   "version": "3.6.6"
  }
 },
 "nbformat": 4,
 "nbformat_minor": 2
}
